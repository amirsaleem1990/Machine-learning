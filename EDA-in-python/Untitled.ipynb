{
 "cells": [
  {
   "cell_type": "code",
   "execution_count": 17,
   "metadata": {},
   "outputs": [],
   "source": [
    "import pandas as pd\n",
    "import numpy as np\n",
    "import matplotlib.pyplot as plt\n",
    "def f():\n",
    "    print(\"-------------------------\")"
   ]
  },
  {
   "cell_type": "code",
   "execution_count": 18,
   "metadata": {},
   "outputs": [
    {
     "name": "stdout",
     "output_type": "stream",
     "text": [
      "-------------------------\n",
      "2803 rows\n",
      "1383 columns\n"
     ]
    }
   ],
   "source": [
    "df = pd.read_csv(\"data.csv\", date_parser=True)\n",
    "f()\n",
    "print(f\"{df.shape[0]} rows\\n{df.shape[1]} columns\")"
   ]
  },
  {
   "cell_type": "code",
   "execution_count": 19,
   "metadata": {},
   "outputs": [
    {
     "name": "stdout",
     "output_type": "stream",
     "text": [
      "-------------------------\n",
      "Columns types distribution:\n",
      "\n",
      "float64    1378\n",
      "object        3\n",
      "int64         2\n",
      "dtype: int64\n"
     ]
    }
   ],
   "source": [
    "f()\n",
    "print(f\"Columns types distribution:\\n\\n{df.dtypes.value_counts()}\")"
   ]
  },
  {
   "cell_type": "code",
   "execution_count": 20,
   "metadata": {},
   "outputs": [
    {
     "name": "stdout",
     "output_type": "stream",
     "text": [
      "-------------------------\n",
      "There are 33 (out of 1383, [2%]) columns that contains 1 or more NA\n"
     ]
    }
   ],
   "source": [
    "f()\n",
    "a = df.isna().sum().where(lambda x:x>0).dropna()\n",
    "print(f\"There are {len(a)} (out of {df.shape[1]}, [{round(len(a)/df.shape[1]*100)}%]) columns that contains 1 or more NA\")"
   ]
  },
  {
   "cell_type": "code",
   "execution_count": 21,
   "metadata": {},
   "outputs": [
    {
     "name": "stdout",
     "output_type": "stream",
     "text": [
      "-------------------------\n",
      "There are 31 columns that are all Missing values, so we droped those.\n",
      "Now The data have:\n",
      "2803 rows\n",
      "1352 columns\n",
      "\n",
      "Dropped columns names:\n",
      "outgoing_call_logs_weekdays_max_standriezed\n",
      "outgoind_call_log_COUNT_mean_standriezed\n",
      "outgoind_call_log_COUNT_median_standriezed\n",
      "outgoing_call_logs_weekends_mean_standriezed\n",
      "count_of_days_no_outgoing_call_standriezed\n",
      "outgoind_call_log_COUNT_min_standriezed\n",
      "picture_count_Downloads_standriezed\n",
      "outgoind_call_log_COUNT_max_standriezed\n",
      "outgoing_call_logs_weekends_max_standriezed\n",
      "outgoing_call_logs_weekends_std_standriezed\n",
      "outgoing_call_logs_weekends_min_standriezed\n",
      "outgoind_call_log_COUNT_std_standriezed\n",
      "outgoing_call_logs_weekdays_mean_standriezed\n",
      "days_since_last_outgoing_call_standriezed\n",
      "calendar_events_count_standriezed\n",
      "outgoing_call_logs_weekdays_std_standriezed\n",
      "video_standriezed\n",
      "audio_standriezed\n",
      "darkweb_count_ratio_standriezed\n",
      "dangerous_count_ratio_standriezed\n",
      "darkweb_count_standriezed\n",
      "dangerous_count_standriezed\n",
      "null_weekday_min_standriezed\n",
      "null_weekend_min_standriezed\n",
      "SENT_weekend_min_standriezed\n",
      "INBOX_weekend_min_standriezed\n",
      "picture_count_Videos_standriezed\n",
      "picture_count_Images_standriezed\n",
      "picture_count_Documents_standriezed\n",
      "outgoing_call_logs_weekdays_min_standriezed\n",
      "days_between_first_and_last_day_outgoing_call_standriezed\n"
     ]
    }
   ],
   "source": [
    "f()\n",
    "a = a.sort_values()/len(df)*100\n",
    "if (a == 100).sum():\n",
    "    df.drop(columns=a[a==100].index, inplace=True)\n",
    "    print(f\"There are {(a == 100).sum()} columns that are all Missing values, so we droped those.\\nNow The data have:\\n{df.shape[0]} rows\\n{df.shape[1]} columns\\n\\nDropped columns names:\")\n",
    "    for i in a[a==100].index:\n",
    "        print(i)\n",
    "    a = a[a != 100]"
   ]
  },
  {
   "cell_type": "code",
   "execution_count": 22,
   "metadata": {},
   "outputs": [
    {
     "name": "stdout",
     "output_type": "stream",
     "text": [
      "-------------------------\n",
      "NA columns data type Distribution:\n",
      "\n",
      "float64    2\n",
      "dtype: int64\n"
     ]
    }
   ],
   "source": [
    "f()\n",
    "print(f\"NA columns data type Distribution:\\n\\n{df[a.index].dtypes.value_counts()}\")"
   ]
  },
  {
   "cell_type": "code",
   "execution_count": 23,
   "metadata": {},
   "outputs": [
    {
     "name": "stdout",
     "output_type": "stream",
     "text": [
      "-------------------------\n",
      "NaN Ratio (0-100)\n",
      "\n",
      "min_call_Duration_sqrt    0.035676\n",
      "min_call_Duration_log     0.035676\n",
      "dtype: float64\n"
     ]
    }
   ],
   "source": [
    "f()\n",
    "if a.size:\n",
    "    print(f\"NaN Ratio (0-100)\\n\\n{a}\")\n",
    "else:\n",
    "    print(\"Now There is no NaN value in our Data\")"
   ]
  },
  {
   "cell_type": "code",
   "execution_count": 24,
   "metadata": {},
   "outputs": [
    {
     "name": "stdout",
     "output_type": "stream",
     "text": [
      "-------------------------\n"
     ]
    },
    {
     "name": "stdin",
     "output_type": "stream",
     "text": [
      "Are you need to remove some columns?[y|n] n\n"
     ]
    }
   ],
   "source": [
    "if a.size:\n",
    "    f()\n",
    "#     is ko uncomment karna h\n",
    "#     ans = input(\"Are you need to remove some columns?[y|n]\")\n",
    "    ans = \"y\" \n",
    "    if ans == \"y\":\n",
    "        to_remove = input(\"Please Enter columns names delimated by $\\neg:Columns_1$Columns_2\").split(\"$\")\n",
    "        df.drop(columns=to_remove, inplace=True)\n",
    "        print(f\"Now The Data have:\\n{df.shape[0]} rows\\n{df.shape[1]} columns\")"
   ]
  },
  {
   "cell_type": "code",
   "execution_count": 25,
   "metadata": {},
   "outputs": [],
   "source": [
    "# IMPUTING missing values??????????????"
   ]
  },
  {
   "cell_type": "code",
   "execution_count": 26,
   "metadata": {},
   "outputs": [],
   "source": [
    "# Numerical Data Validation"
   ]
  },
  {
   "cell_type": "code",
   "execution_count": 27,
   "metadata": {},
   "outputs": [
    {
     "name": "stdout",
     "output_type": "stream",
     "text": [
      "-------------------------\n"
     ]
    }
   ],
   "source": [
    "numerical_cols = df.head().select_dtypes(\"number\").columns\n",
    "numerical_summary = df[numerical_cols].agg([min,max, np.mean, 'count', pd.Series.nunique]).T\n",
    "numerical_summary.columns = numerical_summary.columns.str.capitalize()"
   ]
  },
  {
   "cell_type": "code",
   "execution_count": 31,
   "metadata": {},
   "outputs": [
    {
     "ename": "KeyError",
     "evalue": "\"['picture_count_Downloads' 'picture_count_Documents'\\n 'picture_count_Images' 'picture_count_Videos' 'INBOX_weekend_min'\\n 'SENT_weekend_min' 'null_weekend_min' 'null_weekday_min'\\n 'dangerous_count' 'darkweb_count' 'dangerous_count_ratio'\\n 'darkweb_count_ratio' 'audio' 'video' 'outgoing_call_logs_weekdays_std'\\n 'calendar_events_count' 'outgoind_call_log_COUNT_min'\\n 'outgoing_call_logs_weekdays_max' 'outgoind_call_log_COUNT_mean'\\n 'outgoind_call_log_COUNT_median' 'outgoing_call_logs_weekends_mean'\\n 'count_of_days_no_outgoing_call' 'days_since_last_outgoing_call'\\n 'outgoind_call_log_COUNT_max' 'outgoing_call_logs_weekends_max'\\n 'outgoing_call_logs_weekends_std' 'outgoing_call_logs_weekends_min'\\n 'outgoind_call_log_COUNT_std' 'outgoing_call_logs_weekdays_mean'\\n 'outgoing_call_logs_weekdays_min'\\n 'days_between_first_and_last_day_outgoing_call'\\n 'picture_count_Downloads_sqrt' 'picture_count_Downloads_log'\\n 'poly_2_picture_count_Downloads' 'poly_3_picture_count_Downloads'\\n 'picture_count_Documents_sqrt' 'picture_count_Documents_log'\\n 'poly_2_picture_count_Documents' 'poly_3_picture_count_Documents'\\n 'picture_count_Images_sqrt' 'picture_count_Images_log'\\n 'poly_2_picture_count_Images' 'poly_3_picture_count_Images'\\n 'picture_count_Videos_sqrt' 'picture_count_Videos_log'\\n 'poly_2_picture_count_Videos' 'poly_3_picture_count_Videos'\\n 'INBOX_weekend_min_sqrt' 'INBOX_weekend_min_log'\\n 'poly_2_INBOX_weekend_min' 'poly_3_INBOX_weekend_min'\\n 'SENT_weekend_min_sqrt' 'SENT_weekend_min_log' 'poly_2_SENT_weekend_min'\\n 'poly_3_SENT_weekend_min' 'null_weekend_min_sqrt' 'null_weekend_min_log'\\n 'poly_2_null_weekend_min' 'poly_3_null_weekend_min'\\n 'null_weekday_min_sqrt' 'null_weekday_min_log' 'poly_2_null_weekday_min'\\n 'poly_3_null_weekday_min' 'min_call_Duration_sqrt'\\n 'min_call_Duration_log' 'dangerous_count_sqrt' 'dangerous_count_log'\\n 'poly_2_dangerous_count' 'poly_3_dangerous_count' 'darkweb_count_sqrt'\\n 'darkweb_count_log' 'poly_2_darkweb_count' 'poly_3_darkweb_count'\\n 'dangerous_count_ratio_sqrt' 'dangerous_count_ratio_log'\\n 'poly_2_dangerous_count_ratio' 'poly_3_dangerous_count_ratio'\\n 'darkweb_count_ratio_sqrt' 'darkweb_count_ratio_log'\\n 'poly_2_darkweb_count_ratio' 'poly_3_darkweb_count_ratio' 'audio_sqrt'\\n 'audio_log' 'poly_2_audio' 'poly_3_audio' 'video_sqrt' 'video_log'\\n 'poly_2_video' 'poly_3_video' 'outgoing_call_logs_weekdays_std_sqrt'\\n 'outgoing_call_logs_weekdays_std_log'\\n 'poly_2_outgoing_call_logs_weekdays_std'\\n 'poly_3_outgoing_call_logs_weekdays_std' 'calendar_events_count_sqrt'\\n 'calendar_events_count_log' 'poly_2_calendar_events_count'\\n 'poly_3_calendar_events_count' 'outgoind_call_log_COUNT_min_sqrt'\\n 'outgoind_call_log_COUNT_min_log' 'poly_2_outgoind_call_log_COUNT_min'\\n 'poly_3_outgoind_call_log_COUNT_min'\\n 'outgoing_call_logs_weekdays_max_sqrt'\\n 'outgoing_call_logs_weekdays_max_log'\\n 'poly_2_outgoing_call_logs_weekdays_max'\\n 'poly_3_outgoing_call_logs_weekdays_max'\\n 'outgoind_call_log_COUNT_mean_sqrt' 'outgoind_call_log_COUNT_mean_log'\\n 'poly_2_outgoind_call_log_COUNT_mean'\\n 'poly_3_outgoind_call_log_COUNT_mean'\\n 'outgoind_call_log_COUNT_median_sqrt'\\n 'outgoind_call_log_COUNT_median_log'\\n 'poly_2_outgoind_call_log_COUNT_median'\\n 'poly_3_outgoind_call_log_COUNT_median'\\n 'outgoing_call_logs_weekends_mean_sqrt'\\n 'outgoing_call_logs_weekends_mean_log'\\n 'poly_2_outgoing_call_logs_weekends_mean'\\n 'poly_3_outgoing_call_logs_weekends_mean'\\n 'count_of_days_no_outgoing_call_sqrt'\\n 'count_of_days_no_outgoing_call_log'\\n 'poly_2_count_of_days_no_outgoing_call'\\n 'poly_3_count_of_days_no_outgoing_call'\\n 'days_since_last_outgoing_call_sqrt' 'days_since_last_outgoing_call_log'\\n 'poly_2_days_since_last_outgoing_call'\\n 'poly_3_days_since_last_outgoing_call' 'outgoind_call_log_COUNT_max_sqrt'\\n 'outgoind_call_log_COUNT_max_log' 'poly_2_outgoind_call_log_COUNT_max'\\n 'poly_3_outgoind_call_log_COUNT_max'\\n 'outgoing_call_logs_weekends_max_sqrt'\\n 'outgoing_call_logs_weekends_max_log'\\n 'poly_2_outgoing_call_logs_weekends_max'\\n 'poly_3_outgoing_call_logs_weekends_max'\\n 'outgoing_call_logs_weekends_std_sqrt'\\n 'outgoing_call_logs_weekends_std_log'\\n 'poly_2_outgoing_call_logs_weekends_std'\\n 'poly_3_outgoing_call_logs_weekends_std'\\n 'outgoing_call_logs_weekends_min_sqrt'\\n 'outgoing_call_logs_weekends_min_log'\\n 'poly_2_outgoing_call_logs_weekends_min'\\n 'poly_3_outgoing_call_logs_weekends_min'\\n 'outgoind_call_log_COUNT_std_sqrt' 'outgoind_call_log_COUNT_std_log'\\n 'poly_2_outgoind_call_log_COUNT_std' 'poly_3_outgoind_call_log_COUNT_std'\\n 'outgoing_call_logs_weekdays_mean_sqrt'\\n 'outgoing_call_logs_weekdays_mean_log'\\n 'poly_2_outgoing_call_logs_weekdays_mean'\\n 'poly_3_outgoing_call_logs_weekdays_mean'\\n 'outgoing_call_logs_weekdays_min_sqrt'\\n 'outgoing_call_logs_weekdays_min_log'\\n 'poly_2_outgoing_call_logs_weekdays_min'\\n 'poly_3_outgoing_call_logs_weekdays_min'\\n 'days_between_first_and_last_day_outgoing_call_sqrt'\\n 'days_between_first_and_last_day_outgoing_call_log'\\n 'poly_2_days_between_first_and_last_day_outgoing_call'\\n 'poly_3_days_between_first_and_last_day_outgoing_call'] not found in axis\"",
     "output_type": "error",
     "traceback": [
      "\u001b[0;31m---------------------------------------------------------------------------\u001b[0m",
      "\u001b[0;31mKeyError\u001b[0m                                  Traceback (most recent call last)",
      "\u001b[0;32m<ipython-input-31-1599b44141f8>\u001b[0m in \u001b[0;36m<module>\u001b[0;34m\u001b[0m\n\u001b[1;32m      1\u001b[0m \u001b[0mNumeric_only_one_unique_value\u001b[0m \u001b[0;34m=\u001b[0m \u001b[0mnumerical_summary\u001b[0m\u001b[0;34m[\u001b[0m\u001b[0mnumerical_summary\u001b[0m\u001b[0;34m.\u001b[0m\u001b[0mNunique\u001b[0m \u001b[0;34m==\u001b[0m \u001b[0;36m1\u001b[0m\u001b[0;34m]\u001b[0m\u001b[0;34m\u001b[0m\u001b[0;34m\u001b[0m\u001b[0m\n\u001b[1;32m      2\u001b[0m \u001b[0;32mif\u001b[0m \u001b[0mlen\u001b[0m\u001b[0;34m(\u001b[0m\u001b[0mNumeric_only_one_unique_value\u001b[0m\u001b[0;34m)\u001b[0m\u001b[0;34m:\u001b[0m\u001b[0;34m\u001b[0m\u001b[0;34m\u001b[0m\u001b[0m\n\u001b[0;32m----> 3\u001b[0;31m     \u001b[0mdf\u001b[0m\u001b[0;34m.\u001b[0m\u001b[0mdrop\u001b[0m\u001b[0;34m(\u001b[0m\u001b[0mcolumns\u001b[0m\u001b[0;34m=\u001b[0m\u001b[0mNumeric_only_one_unique_value\u001b[0m\u001b[0;34m.\u001b[0m\u001b[0mindex\u001b[0m\u001b[0;34m,\u001b[0m \u001b[0minplace\u001b[0m\u001b[0;34m=\u001b[0m\u001b[0;32mTrue\u001b[0m\u001b[0;34m)\u001b[0m\u001b[0;34m\u001b[0m\u001b[0;34m\u001b[0m\u001b[0m\n\u001b[0m\u001b[1;32m      4\u001b[0m     \u001b[0mprint\u001b[0m\u001b[0;34m(\u001b[0m\u001b[0;34mf\"There are {len(Numeric_only_one_unique_value)} variables That have only one unique value, so we drop those.\\n\\nNow the data have:\\n{df.shape[0]} rows\\n{df.shape[1]} columns\\n\\nThose columns names in order:\\n\"\u001b[0m\u001b[0;34m)\u001b[0m\u001b[0;34m\u001b[0m\u001b[0;34m\u001b[0m\u001b[0m\n\u001b[1;32m      5\u001b[0m     \u001b[0;32mfor\u001b[0m \u001b[0mi\u001b[0m \u001b[0;32min\u001b[0m \u001b[0mNumeric_only_one_unique_value\u001b[0m\u001b[0;34m.\u001b[0m\u001b[0mindex\u001b[0m\u001b[0;34m.\u001b[0m\u001b[0msort_values\u001b[0m\u001b[0;34m(\u001b[0m\u001b[0;34m)\u001b[0m\u001b[0;34m:\u001b[0m\u001b[0;34m\u001b[0m\u001b[0;34m\u001b[0m\u001b[0m\n",
      "\u001b[0;32m~/.local/lib/python3.6/site-packages/pandas/core/frame.py\u001b[0m in \u001b[0;36mdrop\u001b[0;34m(self, labels, axis, index, columns, level, inplace, errors)\u001b[0m\n\u001b[1;32m   4172\u001b[0m             \u001b[0mlevel\u001b[0m\u001b[0;34m=\u001b[0m\u001b[0mlevel\u001b[0m\u001b[0;34m,\u001b[0m\u001b[0;34m\u001b[0m\u001b[0;34m\u001b[0m\u001b[0m\n\u001b[1;32m   4173\u001b[0m             \u001b[0minplace\u001b[0m\u001b[0;34m=\u001b[0m\u001b[0minplace\u001b[0m\u001b[0;34m,\u001b[0m\u001b[0;34m\u001b[0m\u001b[0;34m\u001b[0m\u001b[0m\n\u001b[0;32m-> 4174\u001b[0;31m             \u001b[0merrors\u001b[0m\u001b[0;34m=\u001b[0m\u001b[0merrors\u001b[0m\u001b[0;34m,\u001b[0m\u001b[0;34m\u001b[0m\u001b[0;34m\u001b[0m\u001b[0m\n\u001b[0m\u001b[1;32m   4175\u001b[0m         )\n\u001b[1;32m   4176\u001b[0m \u001b[0;34m\u001b[0m\u001b[0m\n",
      "\u001b[0;32m~/.local/lib/python3.6/site-packages/pandas/core/generic.py\u001b[0m in \u001b[0;36mdrop\u001b[0;34m(self, labels, axis, index, columns, level, inplace, errors)\u001b[0m\n\u001b[1;32m   3885\u001b[0m         \u001b[0;32mfor\u001b[0m \u001b[0maxis\u001b[0m\u001b[0;34m,\u001b[0m \u001b[0mlabels\u001b[0m \u001b[0;32min\u001b[0m \u001b[0maxes\u001b[0m\u001b[0;34m.\u001b[0m\u001b[0mitems\u001b[0m\u001b[0;34m(\u001b[0m\u001b[0;34m)\u001b[0m\u001b[0;34m:\u001b[0m\u001b[0;34m\u001b[0m\u001b[0;34m\u001b[0m\u001b[0m\n\u001b[1;32m   3886\u001b[0m             \u001b[0;32mif\u001b[0m \u001b[0mlabels\u001b[0m \u001b[0;32mis\u001b[0m \u001b[0;32mnot\u001b[0m \u001b[0;32mNone\u001b[0m\u001b[0;34m:\u001b[0m\u001b[0;34m\u001b[0m\u001b[0;34m\u001b[0m\u001b[0m\n\u001b[0;32m-> 3887\u001b[0;31m                 \u001b[0mobj\u001b[0m \u001b[0;34m=\u001b[0m \u001b[0mobj\u001b[0m\u001b[0;34m.\u001b[0m\u001b[0m_drop_axis\u001b[0m\u001b[0;34m(\u001b[0m\u001b[0mlabels\u001b[0m\u001b[0;34m,\u001b[0m \u001b[0maxis\u001b[0m\u001b[0;34m,\u001b[0m \u001b[0mlevel\u001b[0m\u001b[0;34m=\u001b[0m\u001b[0mlevel\u001b[0m\u001b[0;34m,\u001b[0m \u001b[0merrors\u001b[0m\u001b[0;34m=\u001b[0m\u001b[0merrors\u001b[0m\u001b[0;34m)\u001b[0m\u001b[0;34m\u001b[0m\u001b[0;34m\u001b[0m\u001b[0m\n\u001b[0m\u001b[1;32m   3888\u001b[0m \u001b[0;34m\u001b[0m\u001b[0m\n\u001b[1;32m   3889\u001b[0m         \u001b[0;32mif\u001b[0m \u001b[0minplace\u001b[0m\u001b[0;34m:\u001b[0m\u001b[0;34m\u001b[0m\u001b[0;34m\u001b[0m\u001b[0m\n",
      "\u001b[0;32m~/.local/lib/python3.6/site-packages/pandas/core/generic.py\u001b[0m in \u001b[0;36m_drop_axis\u001b[0;34m(self, labels, axis, level, errors)\u001b[0m\n\u001b[1;32m   3919\u001b[0m                 \u001b[0mnew_axis\u001b[0m \u001b[0;34m=\u001b[0m \u001b[0maxis\u001b[0m\u001b[0;34m.\u001b[0m\u001b[0mdrop\u001b[0m\u001b[0;34m(\u001b[0m\u001b[0mlabels\u001b[0m\u001b[0;34m,\u001b[0m \u001b[0mlevel\u001b[0m\u001b[0;34m=\u001b[0m\u001b[0mlevel\u001b[0m\u001b[0;34m,\u001b[0m \u001b[0merrors\u001b[0m\u001b[0;34m=\u001b[0m\u001b[0merrors\u001b[0m\u001b[0;34m)\u001b[0m\u001b[0;34m\u001b[0m\u001b[0;34m\u001b[0m\u001b[0m\n\u001b[1;32m   3920\u001b[0m             \u001b[0;32melse\u001b[0m\u001b[0;34m:\u001b[0m\u001b[0;34m\u001b[0m\u001b[0;34m\u001b[0m\u001b[0m\n\u001b[0;32m-> 3921\u001b[0;31m                 \u001b[0mnew_axis\u001b[0m \u001b[0;34m=\u001b[0m \u001b[0maxis\u001b[0m\u001b[0;34m.\u001b[0m\u001b[0mdrop\u001b[0m\u001b[0;34m(\u001b[0m\u001b[0mlabels\u001b[0m\u001b[0;34m,\u001b[0m \u001b[0merrors\u001b[0m\u001b[0;34m=\u001b[0m\u001b[0merrors\u001b[0m\u001b[0;34m)\u001b[0m\u001b[0;34m\u001b[0m\u001b[0;34m\u001b[0m\u001b[0m\n\u001b[0m\u001b[1;32m   3922\u001b[0m             \u001b[0mresult\u001b[0m \u001b[0;34m=\u001b[0m \u001b[0mself\u001b[0m\u001b[0;34m.\u001b[0m\u001b[0mreindex\u001b[0m\u001b[0;34m(\u001b[0m\u001b[0;34m**\u001b[0m\u001b[0;34m{\u001b[0m\u001b[0maxis_name\u001b[0m\u001b[0;34m:\u001b[0m \u001b[0mnew_axis\u001b[0m\u001b[0;34m}\u001b[0m\u001b[0;34m)\u001b[0m\u001b[0;34m\u001b[0m\u001b[0;34m\u001b[0m\u001b[0m\n\u001b[1;32m   3923\u001b[0m \u001b[0;34m\u001b[0m\u001b[0m\n",
      "\u001b[0;32m~/.local/lib/python3.6/site-packages/pandas/core/indexes/base.py\u001b[0m in \u001b[0;36mdrop\u001b[0;34m(self, labels, errors)\u001b[0m\n\u001b[1;32m   5282\u001b[0m         \u001b[0;32mif\u001b[0m \u001b[0mmask\u001b[0m\u001b[0;34m.\u001b[0m\u001b[0many\u001b[0m\u001b[0;34m(\u001b[0m\u001b[0;34m)\u001b[0m\u001b[0;34m:\u001b[0m\u001b[0;34m\u001b[0m\u001b[0;34m\u001b[0m\u001b[0m\n\u001b[1;32m   5283\u001b[0m             \u001b[0;32mif\u001b[0m \u001b[0merrors\u001b[0m \u001b[0;34m!=\u001b[0m \u001b[0;34m\"ignore\"\u001b[0m\u001b[0;34m:\u001b[0m\u001b[0;34m\u001b[0m\u001b[0;34m\u001b[0m\u001b[0m\n\u001b[0;32m-> 5284\u001b[0;31m                 \u001b[0;32mraise\u001b[0m \u001b[0mKeyError\u001b[0m\u001b[0;34m(\u001b[0m\u001b[0;34mf\"{labels[mask]} not found in axis\"\u001b[0m\u001b[0;34m)\u001b[0m\u001b[0;34m\u001b[0m\u001b[0;34m\u001b[0m\u001b[0m\n\u001b[0m\u001b[1;32m   5285\u001b[0m             \u001b[0mindexer\u001b[0m \u001b[0;34m=\u001b[0m \u001b[0mindexer\u001b[0m\u001b[0;34m[\u001b[0m\u001b[0;34m~\u001b[0m\u001b[0mmask\u001b[0m\u001b[0;34m]\u001b[0m\u001b[0;34m\u001b[0m\u001b[0;34m\u001b[0m\u001b[0m\n\u001b[1;32m   5286\u001b[0m         \u001b[0;32mreturn\u001b[0m \u001b[0mself\u001b[0m\u001b[0;34m.\u001b[0m\u001b[0mdelete\u001b[0m\u001b[0;34m(\u001b[0m\u001b[0mindexer\u001b[0m\u001b[0;34m)\u001b[0m\u001b[0;34m\u001b[0m\u001b[0;34m\u001b[0m\u001b[0m\n",
      "\u001b[0;31mKeyError\u001b[0m: \"['picture_count_Downloads' 'picture_count_Documents'\\n 'picture_count_Images' 'picture_count_Videos' 'INBOX_weekend_min'\\n 'SENT_weekend_min' 'null_weekend_min' 'null_weekday_min'\\n 'dangerous_count' 'darkweb_count' 'dangerous_count_ratio'\\n 'darkweb_count_ratio' 'audio' 'video' 'outgoing_call_logs_weekdays_std'\\n 'calendar_events_count' 'outgoind_call_log_COUNT_min'\\n 'outgoing_call_logs_weekdays_max' 'outgoind_call_log_COUNT_mean'\\n 'outgoind_call_log_COUNT_median' 'outgoing_call_logs_weekends_mean'\\n 'count_of_days_no_outgoing_call' 'days_since_last_outgoing_call'\\n 'outgoind_call_log_COUNT_max' 'outgoing_call_logs_weekends_max'\\n 'outgoing_call_logs_weekends_std' 'outgoing_call_logs_weekends_min'\\n 'outgoind_call_log_COUNT_std' 'outgoing_call_logs_weekdays_mean'\\n 'outgoing_call_logs_weekdays_min'\\n 'days_between_first_and_last_day_outgoing_call'\\n 'picture_count_Downloads_sqrt' 'picture_count_Downloads_log'\\n 'poly_2_picture_count_Downloads' 'poly_3_picture_count_Downloads'\\n 'picture_count_Documents_sqrt' 'picture_count_Documents_log'\\n 'poly_2_picture_count_Documents' 'poly_3_picture_count_Documents'\\n 'picture_count_Images_sqrt' 'picture_count_Images_log'\\n 'poly_2_picture_count_Images' 'poly_3_picture_count_Images'\\n 'picture_count_Videos_sqrt' 'picture_count_Videos_log'\\n 'poly_2_picture_count_Videos' 'poly_3_picture_count_Videos'\\n 'INBOX_weekend_min_sqrt' 'INBOX_weekend_min_log'\\n 'poly_2_INBOX_weekend_min' 'poly_3_INBOX_weekend_min'\\n 'SENT_weekend_min_sqrt' 'SENT_weekend_min_log' 'poly_2_SENT_weekend_min'\\n 'poly_3_SENT_weekend_min' 'null_weekend_min_sqrt' 'null_weekend_min_log'\\n 'poly_2_null_weekend_min' 'poly_3_null_weekend_min'\\n 'null_weekday_min_sqrt' 'null_weekday_min_log' 'poly_2_null_weekday_min'\\n 'poly_3_null_weekday_min' 'min_call_Duration_sqrt'\\n 'min_call_Duration_log' 'dangerous_count_sqrt' 'dangerous_count_log'\\n 'poly_2_dangerous_count' 'poly_3_dangerous_count' 'darkweb_count_sqrt'\\n 'darkweb_count_log' 'poly_2_darkweb_count' 'poly_3_darkweb_count'\\n 'dangerous_count_ratio_sqrt' 'dangerous_count_ratio_log'\\n 'poly_2_dangerous_count_ratio' 'poly_3_dangerous_count_ratio'\\n 'darkweb_count_ratio_sqrt' 'darkweb_count_ratio_log'\\n 'poly_2_darkweb_count_ratio' 'poly_3_darkweb_count_ratio' 'audio_sqrt'\\n 'audio_log' 'poly_2_audio' 'poly_3_audio' 'video_sqrt' 'video_log'\\n 'poly_2_video' 'poly_3_video' 'outgoing_call_logs_weekdays_std_sqrt'\\n 'outgoing_call_logs_weekdays_std_log'\\n 'poly_2_outgoing_call_logs_weekdays_std'\\n 'poly_3_outgoing_call_logs_weekdays_std' 'calendar_events_count_sqrt'\\n 'calendar_events_count_log' 'poly_2_calendar_events_count'\\n 'poly_3_calendar_events_count' 'outgoind_call_log_COUNT_min_sqrt'\\n 'outgoind_call_log_COUNT_min_log' 'poly_2_outgoind_call_log_COUNT_min'\\n 'poly_3_outgoind_call_log_COUNT_min'\\n 'outgoing_call_logs_weekdays_max_sqrt'\\n 'outgoing_call_logs_weekdays_max_log'\\n 'poly_2_outgoing_call_logs_weekdays_max'\\n 'poly_3_outgoing_call_logs_weekdays_max'\\n 'outgoind_call_log_COUNT_mean_sqrt' 'outgoind_call_log_COUNT_mean_log'\\n 'poly_2_outgoind_call_log_COUNT_mean'\\n 'poly_3_outgoind_call_log_COUNT_mean'\\n 'outgoind_call_log_COUNT_median_sqrt'\\n 'outgoind_call_log_COUNT_median_log'\\n 'poly_2_outgoind_call_log_COUNT_median'\\n 'poly_3_outgoind_call_log_COUNT_median'\\n 'outgoing_call_logs_weekends_mean_sqrt'\\n 'outgoing_call_logs_weekends_mean_log'\\n 'poly_2_outgoing_call_logs_weekends_mean'\\n 'poly_3_outgoing_call_logs_weekends_mean'\\n 'count_of_days_no_outgoing_call_sqrt'\\n 'count_of_days_no_outgoing_call_log'\\n 'poly_2_count_of_days_no_outgoing_call'\\n 'poly_3_count_of_days_no_outgoing_call'\\n 'days_since_last_outgoing_call_sqrt' 'days_since_last_outgoing_call_log'\\n 'poly_2_days_since_last_outgoing_call'\\n 'poly_3_days_since_last_outgoing_call' 'outgoind_call_log_COUNT_max_sqrt'\\n 'outgoind_call_log_COUNT_max_log' 'poly_2_outgoind_call_log_COUNT_max'\\n 'poly_3_outgoind_call_log_COUNT_max'\\n 'outgoing_call_logs_weekends_max_sqrt'\\n 'outgoing_call_logs_weekends_max_log'\\n 'poly_2_outgoing_call_logs_weekends_max'\\n 'poly_3_outgoing_call_logs_weekends_max'\\n 'outgoing_call_logs_weekends_std_sqrt'\\n 'outgoing_call_logs_weekends_std_log'\\n 'poly_2_outgoing_call_logs_weekends_std'\\n 'poly_3_outgoing_call_logs_weekends_std'\\n 'outgoing_call_logs_weekends_min_sqrt'\\n 'outgoing_call_logs_weekends_min_log'\\n 'poly_2_outgoing_call_logs_weekends_min'\\n 'poly_3_outgoing_call_logs_weekends_min'\\n 'outgoind_call_log_COUNT_std_sqrt' 'outgoind_call_log_COUNT_std_log'\\n 'poly_2_outgoind_call_log_COUNT_std' 'poly_3_outgoind_call_log_COUNT_std'\\n 'outgoing_call_logs_weekdays_mean_sqrt'\\n 'outgoing_call_logs_weekdays_mean_log'\\n 'poly_2_outgoing_call_logs_weekdays_mean'\\n 'poly_3_outgoing_call_logs_weekdays_mean'\\n 'outgoing_call_logs_weekdays_min_sqrt'\\n 'outgoing_call_logs_weekdays_min_log'\\n 'poly_2_outgoing_call_logs_weekdays_min'\\n 'poly_3_outgoing_call_logs_weekdays_min'\\n 'days_between_first_and_last_day_outgoing_call_sqrt'\\n 'days_between_first_and_last_day_outgoing_call_log'\\n 'poly_2_days_between_first_and_last_day_outgoing_call'\\n 'poly_3_days_between_first_and_last_day_outgoing_call'] not found in axis\""
     ]
    }
   ],
   "source": [
    "Numeric_only_one_unique_value = numerical_summary[numerical_summary.Nunique == 1]\n",
    "if len(Numeric_only_one_unique_value):\n",
    "    df.drop(columns=Numeric_only_one_unique_value.index, inplace=True)\n",
    "    print(f\"There are {len(Numeric_only_one_unique_value)} variables That have only one unique value, so we drop those.\\n\\nNow the data have:\\n{df.shape[0]} rows\\n{df.shape[1]} columns\\n\\nThose columns names in order:\\n\")\n",
    "    for i in Numeric_only_one_unique_value.index.sort_values():\n",
    "        print(i)\n",
    "del Numeric_only_one_unique_value"
   ]
  },
  {
   "cell_type": "code",
   "execution_count": 30,
   "metadata": {},
   "outputs": [
    {
     "data": {
      "text/html": [
       "<div>\n",
       "<style scoped>\n",
       "    .dataframe tbody tr th:only-of-type {\n",
       "        vertical-align: middle;\n",
       "    }\n",
       "\n",
       "    .dataframe tbody tr th {\n",
       "        vertical-align: top;\n",
       "    }\n",
       "\n",
       "    .dataframe thead th {\n",
       "        text-align: right;\n",
       "    }\n",
       "</style>\n",
       "<table border=\"1\" class=\"dataframe\">\n",
       "  <thead>\n",
       "    <tr style=\"text-align: right;\">\n",
       "      <th></th>\n",
       "      <th>Min</th>\n",
       "      <th>Max</th>\n",
       "      <th>Mean</th>\n",
       "      <th>Count</th>\n",
       "      <th>Nunique</th>\n",
       "    </tr>\n",
       "  </thead>\n",
       "  <tbody>\n",
       "    <tr>\n",
       "      <th>displyname_nunique</th>\n",
       "      <td>12.000000</td>\n",
       "      <td>7.230000e+03</td>\n",
       "      <td>4.782790e+02</td>\n",
       "      <td>2803.0</td>\n",
       "      <td>1051.0</td>\n",
       "    </tr>\n",
       "    <tr>\n",
       "      <th>contacts_qty</th>\n",
       "      <td>12.000000</td>\n",
       "      <td>1.441100e+04</td>\n",
       "      <td>5.605844e+02</td>\n",
       "      <td>2803.0</td>\n",
       "      <td>1151.0</td>\n",
       "    </tr>\n",
       "    <tr>\n",
       "      <th>number_as_name_qty</th>\n",
       "      <td>0.000000</td>\n",
       "      <td>2.426000e+03</td>\n",
       "      <td>3.782019e+00</td>\n",
       "      <td>2803.0</td>\n",
       "      <td>57.0</td>\n",
       "    </tr>\n",
       "    <tr>\n",
       "      <th>number_as_name_ratio</th>\n",
       "      <td>0.000000</td>\n",
       "      <td>7.785623e-01</td>\n",
       "      <td>5.960546e-03</td>\n",
       "      <td>2803.0</td>\n",
       "      <td>1119.0</td>\n",
       "    </tr>\n",
       "    <tr>\n",
       "      <th>engslish_contacts_qty</th>\n",
       "      <td>0.000000</td>\n",
       "      <td>1.440600e+04</td>\n",
       "      <td>2.322440e+02</td>\n",
       "      <td>2803.0</td>\n",
       "      <td>705.0</td>\n",
       "    </tr>\n",
       "    <tr>\n",
       "      <th>...</th>\n",
       "      <td>...</td>\n",
       "      <td>...</td>\n",
       "      <td>...</td>\n",
       "      <td>...</td>\n",
       "      <td>...</td>\n",
       "    </tr>\n",
       "    <tr>\n",
       "      <th>max_timestamp_day_sqrt</th>\n",
       "      <td>1.825742</td>\n",
       "      <td>1.016530e+01</td>\n",
       "      <td>2.771474e+00</td>\n",
       "      <td>2803.0</td>\n",
       "      <td>22.0</td>\n",
       "    </tr>\n",
       "    <tr>\n",
       "      <th>max_timestamp_day_standriezed</th>\n",
       "      <td>-0.428005</td>\n",
       "      <td>6.608342e+00</td>\n",
       "      <td>7.097823e-17</td>\n",
       "      <td>2803.0</td>\n",
       "      <td>22.0</td>\n",
       "    </tr>\n",
       "    <tr>\n",
       "      <th>max_timestamp_day_log</th>\n",
       "      <td>0.522892</td>\n",
       "      <td>2.014241e+00</td>\n",
       "      <td>8.274173e-01</td>\n",
       "      <td>2803.0</td>\n",
       "      <td>22.0</td>\n",
       "    </tr>\n",
       "    <tr>\n",
       "      <th>poly_2_max_timestamp_day</th>\n",
       "      <td>11.111111</td>\n",
       "      <td>1.067778e+04</td>\n",
       "      <td>2.905696e+02</td>\n",
       "      <td>2803.0</td>\n",
       "      <td>22.0</td>\n",
       "    </tr>\n",
       "    <tr>\n",
       "      <th>poly_3_max_timestamp_day</th>\n",
       "      <td>37.037037</td>\n",
       "      <td>1.103370e+06</td>\n",
       "      <td>2.121613e+04</td>\n",
       "      <td>2803.0</td>\n",
       "      <td>22.0</td>\n",
       "    </tr>\n",
       "  </tbody>\n",
       "</table>\n",
       "<p>1349 rows × 5 columns</p>\n",
       "</div>"
      ],
      "text/plain": [
       "                                     Min           Max          Mean   Count  \\\n",
       "displyname_nunique             12.000000  7.230000e+03  4.782790e+02  2803.0   \n",
       "contacts_qty                   12.000000  1.441100e+04  5.605844e+02  2803.0   \n",
       "number_as_name_qty              0.000000  2.426000e+03  3.782019e+00  2803.0   \n",
       "number_as_name_ratio            0.000000  7.785623e-01  5.960546e-03  2803.0   \n",
       "engslish_contacts_qty           0.000000  1.440600e+04  2.322440e+02  2803.0   \n",
       "...                                  ...           ...           ...     ...   \n",
       "max_timestamp_day_sqrt          1.825742  1.016530e+01  2.771474e+00  2803.0   \n",
       "max_timestamp_day_standriezed  -0.428005  6.608342e+00  7.097823e-17  2803.0   \n",
       "max_timestamp_day_log           0.522892  2.014241e+00  8.274173e-01  2803.0   \n",
       "poly_2_max_timestamp_day       11.111111  1.067778e+04  2.905696e+02  2803.0   \n",
       "poly_3_max_timestamp_day       37.037037  1.103370e+06  2.121613e+04  2803.0   \n",
       "\n",
       "                               Nunique  \n",
       "displyname_nunique              1051.0  \n",
       "contacts_qty                    1151.0  \n",
       "number_as_name_qty                57.0  \n",
       "number_as_name_ratio            1119.0  \n",
       "engslish_contacts_qty            705.0  \n",
       "...                                ...  \n",
       "max_timestamp_day_sqrt            22.0  \n",
       "max_timestamp_day_standriezed     22.0  \n",
       "max_timestamp_day_log             22.0  \n",
       "poly_2_max_timestamp_day          22.0  \n",
       "poly_3_max_timestamp_day          22.0  \n",
       "\n",
       "[1349 rows x 5 columns]"
      ]
     },
     "execution_count": 30,
     "metadata": {},
     "output_type": "execute_result"
    }
   ],
   "source": [
    "numerical_summary"
   ]
  },
  {
   "cell_type": "code",
   "execution_count": null,
   "metadata": {},
   "outputs": [],
   "source": []
  }
 ],
 "metadata": {
  "kernelspec": {
   "display_name": "Python 3",
   "language": "python",
   "name": "python3"
  },
  "language_info": {
   "codemirror_mode": {
    "name": "ipython",
    "version": 3
   },
   "file_extension": ".py",
   "mimetype": "text/x-python",
   "name": "python",
   "nbconvert_exporter": "python",
   "pygments_lexer": "ipython3",
   "version": "3.6.9"
  }
 },
 "nbformat": 4,
 "nbformat_minor": 4
}

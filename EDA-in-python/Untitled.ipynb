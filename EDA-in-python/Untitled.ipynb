{
 "cells": [
  {
   "cell_type": "code",
   "execution_count": 14,
   "metadata": {},
   "outputs": [],
   "source": [
    "import pandas as pd\n",
    "import numpy as np\n",
    "import matplotlib.pyplot as plt\n",
    "def f():\n",
    "    print(\"-------------------------\")"
   ]
  },
  {
   "cell_type": "code",
   "execution_count": 15,
   "metadata": {},
   "outputs": [
    {
     "name": "stdout",
     "output_type": "stream",
     "text": [
      "-------------------------\n",
      "2803 rows\n",
      "1383 columns\n"
     ]
    }
   ],
   "source": [
    "df = pd.read_csv(\"data.csv\")\n",
    "f()\n",
    "print(f\"{df.shape[0]} rows\\n{df.shape[1]} columns\")"
   ]
  },
  {
   "cell_type": "code",
   "execution_count": 16,
   "metadata": {},
   "outputs": [
    {
     "name": "stdout",
     "output_type": "stream",
     "text": [
      "-------------------------\n",
      "Columns types distribution:\n",
      "\n",
      "float64    1378\n",
      "object        3\n",
      "int64         2\n",
      "dtype: int64\n"
     ]
    }
   ],
   "source": [
    "f()\n",
    "print(f\"Columns types distribution:\\n\\n{df.dtypes.value_counts()}\")"
   ]
  },
  {
   "cell_type": "code",
   "execution_count": 69,
   "metadata": {},
   "outputs": [
    {
     "name": "stdout",
     "output_type": "stream",
     "text": [
      "-------------------------\n",
      "There are 33 (out of 1383, [2%]) columns that contains 1 or more NA\n"
     ]
    }
   ],
   "source": [
    "f()\n",
    "a = df.isna().sum().where(lambda x:x>0).dropna()\n",
    "print(f\"There are {len(a)} (out of {df.shape[1]}, [{round(len(a)/df.shape[1]*100)}%]) columns that contains 1 or more NA\")"
   ]
  },
  {
   "cell_type": "code",
   "execution_count": 47,
   "metadata": {},
   "outputs": [
    {
     "name": "stdout",
     "output_type": "stream",
     "text": [
      "-------------------------\n",
      "NA columns data type Distribution:\n",
      "\n",
      "float64    33\n",
      "dtype: int64\n"
     ]
    }
   ],
   "source": [
    "f()\n",
    "print(f\"NA columns data type Distribution:\\n\\n{df[a.index].dtypes.value_counts()}\")"
   ]
  },
  {
   "cell_type": "code",
   "execution_count": 70,
   "metadata": {},
   "outputs": [
    {
     "name": "stdout",
     "output_type": "stream",
     "text": [
      "-------------------------\n"
     ]
    },
    {
     "data": {
      "text/plain": [
       "min_call_Duration_sqrt                                         0.035676\n",
       "min_call_Duration_log                                          0.035676\n",
       "outgoing_call_logs_weekdays_max_standriezed                  100.000000\n",
       "outgoind_call_log_COUNT_mean_standriezed                     100.000000\n",
       "outgoind_call_log_COUNT_median_standriezed                   100.000000\n",
       "outgoing_call_logs_weekends_mean_standriezed                 100.000000\n",
       "count_of_days_no_outgoing_call_standriezed                   100.000000\n",
       "outgoind_call_log_COUNT_min_standriezed                      100.000000\n",
       "picture_count_Downloads_standriezed                          100.000000\n",
       "outgoind_call_log_COUNT_max_standriezed                      100.000000\n",
       "outgoing_call_logs_weekends_max_standriezed                  100.000000\n",
       "outgoing_call_logs_weekends_std_standriezed                  100.000000\n",
       "outgoing_call_logs_weekends_min_standriezed                  100.000000\n",
       "outgoind_call_log_COUNT_std_standriezed                      100.000000\n",
       "outgoing_call_logs_weekdays_mean_standriezed                 100.000000\n",
       "days_since_last_outgoing_call_standriezed                    100.000000\n",
       "calendar_events_count_standriezed                            100.000000\n",
       "outgoing_call_logs_weekdays_std_standriezed                  100.000000\n",
       "video_standriezed                                            100.000000\n",
       "audio_standriezed                                            100.000000\n",
       "darkweb_count_ratio_standriezed                              100.000000\n",
       "dangerous_count_ratio_standriezed                            100.000000\n",
       "darkweb_count_standriezed                                    100.000000\n",
       "dangerous_count_standriezed                                  100.000000\n",
       "null_weekday_min_standriezed                                 100.000000\n",
       "null_weekend_min_standriezed                                 100.000000\n",
       "SENT_weekend_min_standriezed                                 100.000000\n",
       "INBOX_weekend_min_standriezed                                100.000000\n",
       "picture_count_Videos_standriezed                             100.000000\n",
       "picture_count_Images_standriezed                             100.000000\n",
       "picture_count_Documents_standriezed                          100.000000\n",
       "outgoing_call_logs_weekdays_min_standriezed                  100.000000\n",
       "days_between_first_and_last_day_outgoing_call_standriezed    100.000000\n",
       "dtype: float64"
      ]
     },
     "execution_count": 70,
     "metadata": {},
     "output_type": "execute_result"
    }
   ],
   "source": [
    "f()\n",
    "a = a.sort_values()/len(df)*100\n",
    "# print(f\"Missing values Ratio:(0=No missing value, 100=All values are missing)\\n\\n{a}\")\n",
    "a == 1"
   ]
  },
  {
   "cell_type": "code",
   "execution_count": 63,
   "metadata": {},
   "outputs": [
    {
     "name": "stdout",
     "output_type": "stream",
     "text": [
      "-------------------------\n"
     ]
    },
    {
     "name": "stdin",
     "output_type": "stream",
     "text": [
      "Are you need to remove Columns That are all missing?[y|n] an\n"
     ]
    }
   ],
   "source": [
    "f()\n",
    "ans = input(\"Are you need to remove Columns That are all missing?[y|n]\")\n",
    "if ans == \"y\":\n",
    "    print(f\"data columns BEFORE deleting all NaNs columns: {df.shape[1]}\")\n",
    "    df.drop(columns=a[a==100].index, inplace=True)\n",
    "    print(f\"data columns AFTER deleting all NaNs columns: {df.shape[1]}\")"
   ]
  },
  {
   "cell_type": "code",
   "execution_count": 67,
   "metadata": {},
   "outputs": [
    {
     "data": {
      "text/plain": [
       "Index(['outgoing_call_logs_weekdays_max_standriezed',\n",
       "       'outgoind_call_log_COUNT_mean_standriezed',\n",
       "       'outgoind_call_log_COUNT_median_standriezed',\n",
       "       'outgoing_call_logs_weekends_mean_standriezed',\n",
       "       'count_of_days_no_outgoing_call_standriezed',\n",
       "       'outgoind_call_log_COUNT_min_standriezed',\n",
       "       'picture_count_Downloads_standriezed',\n",
       "       'outgoind_call_log_COUNT_max_standriezed',\n",
       "       'outgoing_call_logs_weekends_max_standriezed',\n",
       "       'outgoing_call_logs_weekends_std_standriezed',\n",
       "       'outgoing_call_logs_weekends_min_standriezed',\n",
       "       'outgoind_call_log_COUNT_std_standriezed',\n",
       "       'outgoing_call_logs_weekdays_mean_standriezed',\n",
       "       'days_since_last_outgoing_call_standriezed',\n",
       "       'calendar_events_count_standriezed',\n",
       "       'outgoing_call_logs_weekdays_std_standriezed', 'video_standriezed',\n",
       "       'audio_standriezed', 'darkweb_count_ratio_standriezed',\n",
       "       'dangerous_count_ratio_standriezed', 'darkweb_count_standriezed',\n",
       "       'dangerous_count_standriezed', 'null_weekday_min_standriezed',\n",
       "       'null_weekend_min_standriezed', 'SENT_weekend_min_standriezed',\n",
       "       'INBOX_weekend_min_standriezed', 'picture_count_Videos_standriezed',\n",
       "       'picture_count_Images_standriezed',\n",
       "       'picture_count_Documents_standriezed',\n",
       "       'outgoing_call_logs_weekdays_min_standriezed',\n",
       "       'days_between_first_and_last_day_outgoing_call_standriezed'],\n",
       "      dtype='object')"
      ]
     },
     "execution_count": 67,
     "metadata": {},
     "output_type": "execute_result"
    }
   ],
   "source": []
  },
  {
   "cell_type": "code",
   "execution_count": null,
   "metadata": {},
   "outputs": [],
   "source": []
  }
 ],
 "metadata": {
  "kernelspec": {
   "display_name": "Python 3",
   "language": "python",
   "name": "python3"
  },
  "language_info": {
   "codemirror_mode": {
    "name": "ipython",
    "version": 3
   },
   "file_extension": ".py",
   "mimetype": "text/x-python",
   "name": "python",
   "nbconvert_exporter": "python",
   "pygments_lexer": "ipython3",
   "version": "3.6.9"
  }
 },
 "nbformat": 4,
 "nbformat_minor": 4
}

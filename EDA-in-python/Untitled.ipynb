{
 "cells": [
  {
   "cell_type": "code",
   "execution_count": 1,
   "metadata": {},
   "outputs": [],
   "source": [
    "import pandas as pd\n",
    "import numpy as np\n",
    "import matplotlib.pyplot as plt\n",
    "def f():\n",
    "    print(\"-------------------------\")"
   ]
  },
  {
   "cell_type": "code",
   "execution_count": 2,
   "metadata": {},
   "outputs": [
    {
     "name": "stdout",
     "output_type": "stream",
     "text": [
      "-------------------------\n",
      "2803 rows\n",
      "1383 columns\n"
     ]
    }
   ],
   "source": [
    "df = pd.read_csv(\"data.csv\", date_parser=True)\n",
    "f()\n",
    "print(f\"{df.shape[0]} rows\\n{df.shape[1]} columns\")"
   ]
  },
  {
   "cell_type": "code",
   "execution_count": 3,
   "metadata": {},
   "outputs": [
    {
     "name": "stdout",
     "output_type": "stream",
     "text": [
      "-------------------------\n",
      "Columns types distribution:\n",
      "\n",
      "float64    1378\n",
      "object        3\n",
      "int64         2\n",
      "dtype: int64\n"
     ]
    }
   ],
   "source": [
    "f()\n",
    "print(f\"Columns types distribution:\\n\\n{df.dtypes.value_counts()}\")"
   ]
  },
  {
   "cell_type": "code",
   "execution_count": 4,
   "metadata": {},
   "outputs": [
    {
     "name": "stdout",
     "output_type": "stream",
     "text": [
      "-------------------------\n",
      "There are 33 (out of 1383, [2%]) columns that contains 1 or more NA\n"
     ]
    }
   ],
   "source": [
    "f()\n",
    "a = df.isna().sum().where(lambda x:x>0).dropna()\n",
    "print(f\"There are {len(a)} (out of {df.shape[1]}, [{round(len(a)/df.shape[1]*100)}%]) columns that contains 1 or more NA\")"
   ]
  },
  {
   "cell_type": "code",
   "execution_count": 14,
   "metadata": {},
   "outputs": [
    {
     "name": "stdout",
     "output_type": "stream",
     "text": [
      "-------------------------\n",
      "There are 31 columns that are all Missing values, so we droped those.\n",
      "Now The data have:\n",
      "2803 rows\n",
      "1352 columns\n",
      "\n",
      "Dropped columns names:\n",
      "outgoing_call_logs_weekdays_max_standriezed\n",
      "outgoind_call_log_COUNT_mean_standriezed\n",
      "outgoind_call_log_COUNT_median_standriezed\n",
      "outgoing_call_logs_weekends_mean_standriezed\n",
      "count_of_days_no_outgoing_call_standriezed\n",
      "outgoind_call_log_COUNT_min_standriezed\n",
      "picture_count_Downloads_standriezed\n",
      "outgoind_call_log_COUNT_max_standriezed\n",
      "outgoing_call_logs_weekends_max_standriezed\n",
      "outgoing_call_logs_weekends_std_standriezed\n",
      "outgoing_call_logs_weekends_min_standriezed\n",
      "outgoind_call_log_COUNT_std_standriezed\n",
      "outgoing_call_logs_weekdays_mean_standriezed\n",
      "days_since_last_outgoing_call_standriezed\n",
      "calendar_events_count_standriezed\n",
      "outgoing_call_logs_weekdays_std_standriezed\n",
      "video_standriezed\n",
      "audio_standriezed\n",
      "darkweb_count_ratio_standriezed\n",
      "dangerous_count_ratio_standriezed\n",
      "darkweb_count_standriezed\n",
      "dangerous_count_standriezed\n",
      "null_weekday_min_standriezed\n",
      "null_weekend_min_standriezed\n",
      "SENT_weekend_min_standriezed\n",
      "INBOX_weekend_min_standriezed\n",
      "picture_count_Videos_standriezed\n",
      "picture_count_Images_standriezed\n",
      "picture_count_Documents_standriezed\n",
      "outgoing_call_logs_weekdays_min_standriezed\n",
      "days_between_first_and_last_day_outgoing_call_standriezed\n"
     ]
    }
   ],
   "source": [
    "f()\n",
    "a = a.sort_values()/len(df)*100\n",
    "if (a == 100).sum():\n",
    "    df.drop(columns=a[a==100].index, inplace=True)\n",
    "    print(f\"There are {(a == 100).sum()} columns that are all Missing values, so we droped those.\\nNow The data have:\\n{df.shape[0]} rows\\n{df.shape[1]} columns\\n\\nDropped columns names:\")\n",
    "    for i in a[a==100].index:\n",
    "        print(i)\n",
    "    a = a[a != 100]"
   ]
  },
  {
   "cell_type": "code",
   "execution_count": 15,
   "metadata": {},
   "outputs": [
    {
     "name": "stdout",
     "output_type": "stream",
     "text": [
      "-------------------------\n",
      "NA columns data type Distribution:\n",
      "\n",
      "float64    2\n",
      "dtype: int64\n"
     ]
    }
   ],
   "source": [
    "f()\n",
    "print(f\"NA columns data type Distribution:\\n\\n{df[a.index].dtypes.value_counts()}\")"
   ]
  },
  {
   "cell_type": "code",
   "execution_count": 16,
   "metadata": {},
   "outputs": [
    {
     "name": "stdout",
     "output_type": "stream",
     "text": [
      "-------------------------\n",
      "NaN Ratio (0-100)\n",
      "\n",
      "min_call_Duration_sqrt    0.035676\n",
      "min_call_Duration_log     0.035676\n",
      "dtype: float64\n"
     ]
    }
   ],
   "source": [
    "f()\n",
    "if a.size:\n",
    "    print(f\"NaN Ratio (0-100)\\n\\n{a}\")\n",
    "else:\n",
    "    print(\"Now There is no NaN value in our Data\")"
   ]
  },
  {
   "cell_type": "code",
   "execution_count": 17,
   "metadata": {},
   "outputs": [
    {
     "name": "stdout",
     "output_type": "stream",
     "text": [
      "-------------------------\n"
     ]
    },
    {
     "name": "stdin",
     "output_type": "stream",
     "text": [
      "Are you need to remove some columns?[y|n] n\n"
     ]
    }
   ],
   "source": [
    "if a.size:\n",
    "    f()\n",
    "    ans = input(\"Are you need to remove some columns?[y|n]\")\n",
    "    if ans == \"y\":\n",
    "        to_remove = input(\"Please Enter columns names delimated by $\\neg:Columns_1$Columns_2\").split(\"$\")\n",
    "        df.drop(columns=to_remove, inplace=True)\n",
    "        print(f\"Now The Data have:\\n{df.shape[0]} rows\\n{df.shape[1]} columns\")"
   ]
  },
  {
   "cell_type": "code",
   "execution_count": 21,
   "metadata": {},
   "outputs": [],
   "source": [
    "# IMPUTING missing values??????????????"
   ]
  },
  {
   "cell_type": "code",
   "execution_count": null,
   "metadata": {},
   "outputs": [],
   "source": [
    "# Numerical Data Validation"
   ]
  },
  {
   "cell_type": "code",
   "execution_count": 49,
   "metadata": {},
   "outputs": [],
   "source": [
    "# f()\n",
    "# numerical_cols = df.head().select_dtypes(\"number\").columns\n",
    "# if numerical_cols:\n",
    "#     df[numerical_cols].agg([min,max,np.mean])\n",
    "numerical_summary = df[numerical_cols].agg([min,max, np.mean, 'count', pd.Series.nunique]).T\n",
    "numerical_summary.columns = numerical_summary.columns.str.capitalize()"
   ]
  },
  {
   "cell_type": "code",
   "execution_count": 54,
   "metadata": {},
   "outputs": [
    {
     "name": "stdout",
     "output_type": "stream",
     "text": [
      "There are 157 variables That have only one unique value, so we drop those.\n",
      "\n",
      "Now the data have 2803 rows\n",
      "1195 columns\n",
      "Those columns names in order:\n",
      "INBOX_weekend_min\n",
      "INBOX_weekend_min_log\n",
      "INBOX_weekend_min_sqrt\n",
      "SENT_weekend_min\n",
      "SENT_weekend_min_log\n",
      "SENT_weekend_min_sqrt\n",
      "audio\n",
      "audio_log\n",
      "audio_sqrt\n",
      "calendar_events_count\n",
      "calendar_events_count_log\n",
      "calendar_events_count_sqrt\n",
      "count_of_days_no_outgoing_call\n",
      "count_of_days_no_outgoing_call_log\n",
      "count_of_days_no_outgoing_call_sqrt\n",
      "dangerous_count\n",
      "dangerous_count_log\n",
      "dangerous_count_ratio\n",
      "dangerous_count_ratio_log\n",
      "dangerous_count_ratio_sqrt\n",
      "dangerous_count_sqrt\n",
      "darkweb_count\n",
      "darkweb_count_log\n",
      "darkweb_count_ratio\n",
      "darkweb_count_ratio_log\n",
      "darkweb_count_ratio_sqrt\n",
      "darkweb_count_sqrt\n",
      "days_between_first_and_last_day_outgoing_call\n",
      "days_between_first_and_last_day_outgoing_call_log\n",
      "days_between_first_and_last_day_outgoing_call_sqrt\n",
      "days_since_last_outgoing_call\n",
      "days_since_last_outgoing_call_log\n",
      "days_since_last_outgoing_call_sqrt\n",
      "min_call_Duration_log\n",
      "min_call_Duration_sqrt\n",
      "null_weekday_min\n",
      "null_weekday_min_log\n",
      "null_weekday_min_sqrt\n",
      "null_weekend_min\n",
      "null_weekend_min_log\n",
      "null_weekend_min_sqrt\n",
      "outgoind_call_log_COUNT_max\n",
      "outgoind_call_log_COUNT_max_log\n",
      "outgoind_call_log_COUNT_max_sqrt\n",
      "outgoind_call_log_COUNT_mean\n",
      "outgoind_call_log_COUNT_mean_log\n",
      "outgoind_call_log_COUNT_mean_sqrt\n",
      "outgoind_call_log_COUNT_median\n",
      "outgoind_call_log_COUNT_median_log\n",
      "outgoind_call_log_COUNT_median_sqrt\n",
      "outgoind_call_log_COUNT_min\n",
      "outgoind_call_log_COUNT_min_log\n",
      "outgoind_call_log_COUNT_min_sqrt\n",
      "outgoind_call_log_COUNT_std\n",
      "outgoind_call_log_COUNT_std_log\n",
      "outgoind_call_log_COUNT_std_sqrt\n",
      "outgoing_call_logs_weekdays_max\n",
      "outgoing_call_logs_weekdays_max_log\n",
      "outgoing_call_logs_weekdays_max_sqrt\n",
      "outgoing_call_logs_weekdays_mean\n",
      "outgoing_call_logs_weekdays_mean_log\n",
      "outgoing_call_logs_weekdays_mean_sqrt\n",
      "outgoing_call_logs_weekdays_min\n",
      "outgoing_call_logs_weekdays_min_log\n",
      "outgoing_call_logs_weekdays_min_sqrt\n",
      "outgoing_call_logs_weekdays_std\n",
      "outgoing_call_logs_weekdays_std_log\n",
      "outgoing_call_logs_weekdays_std_sqrt\n",
      "outgoing_call_logs_weekends_max\n",
      "outgoing_call_logs_weekends_max_log\n",
      "outgoing_call_logs_weekends_max_sqrt\n",
      "outgoing_call_logs_weekends_mean\n",
      "outgoing_call_logs_weekends_mean_log\n",
      "outgoing_call_logs_weekends_mean_sqrt\n",
      "outgoing_call_logs_weekends_min\n",
      "outgoing_call_logs_weekends_min_log\n",
      "outgoing_call_logs_weekends_min_sqrt\n",
      "outgoing_call_logs_weekends_std\n",
      "outgoing_call_logs_weekends_std_log\n",
      "outgoing_call_logs_weekends_std_sqrt\n",
      "picture_count_Documents\n",
      "picture_count_Documents_log\n",
      "picture_count_Documents_sqrt\n",
      "picture_count_Downloads\n",
      "picture_count_Downloads_log\n",
      "picture_count_Downloads_sqrt\n",
      "picture_count_Images\n",
      "picture_count_Images_log\n",
      "picture_count_Images_sqrt\n",
      "picture_count_Videos\n",
      "picture_count_Videos_log\n",
      "picture_count_Videos_sqrt\n",
      "poly_2_INBOX_weekend_min\n",
      "poly_2_SENT_weekend_min\n",
      "poly_2_audio\n",
      "poly_2_calendar_events_count\n",
      "poly_2_count_of_days_no_outgoing_call\n",
      "poly_2_dangerous_count\n",
      "poly_2_dangerous_count_ratio\n",
      "poly_2_darkweb_count\n",
      "poly_2_darkweb_count_ratio\n",
      "poly_2_days_between_first_and_last_day_outgoing_call\n",
      "poly_2_days_since_last_outgoing_call\n",
      "poly_2_null_weekday_min\n",
      "poly_2_null_weekend_min\n",
      "poly_2_outgoind_call_log_COUNT_max\n",
      "poly_2_outgoind_call_log_COUNT_mean\n",
      "poly_2_outgoind_call_log_COUNT_median\n",
      "poly_2_outgoind_call_log_COUNT_min\n",
      "poly_2_outgoind_call_log_COUNT_std\n",
      "poly_2_outgoing_call_logs_weekdays_max\n",
      "poly_2_outgoing_call_logs_weekdays_mean\n",
      "poly_2_outgoing_call_logs_weekdays_min\n",
      "poly_2_outgoing_call_logs_weekdays_std\n",
      "poly_2_outgoing_call_logs_weekends_max\n",
      "poly_2_outgoing_call_logs_weekends_mean\n",
      "poly_2_outgoing_call_logs_weekends_min\n",
      "poly_2_outgoing_call_logs_weekends_std\n",
      "poly_2_picture_count_Documents\n",
      "poly_2_picture_count_Downloads\n",
      "poly_2_picture_count_Images\n",
      "poly_2_picture_count_Videos\n",
      "poly_2_video\n",
      "poly_3_INBOX_weekend_min\n",
      "poly_3_SENT_weekend_min\n",
      "poly_3_audio\n",
      "poly_3_calendar_events_count\n",
      "poly_3_count_of_days_no_outgoing_call\n",
      "poly_3_dangerous_count\n",
      "poly_3_dangerous_count_ratio\n",
      "poly_3_darkweb_count\n",
      "poly_3_darkweb_count_ratio\n",
      "poly_3_days_between_first_and_last_day_outgoing_call\n",
      "poly_3_days_since_last_outgoing_call\n",
      "poly_3_null_weekday_min\n",
      "poly_3_null_weekend_min\n",
      "poly_3_outgoind_call_log_COUNT_max\n",
      "poly_3_outgoind_call_log_COUNT_mean\n",
      "poly_3_outgoind_call_log_COUNT_median\n",
      "poly_3_outgoind_call_log_COUNT_min\n",
      "poly_3_outgoind_call_log_COUNT_std\n",
      "poly_3_outgoing_call_logs_weekdays_max\n",
      "poly_3_outgoing_call_logs_weekdays_mean\n",
      "poly_3_outgoing_call_logs_weekdays_min\n",
      "poly_3_outgoing_call_logs_weekdays_std\n",
      "poly_3_outgoing_call_logs_weekends_max\n",
      "poly_3_outgoing_call_logs_weekends_mean\n",
      "poly_3_outgoing_call_logs_weekends_min\n",
      "poly_3_outgoing_call_logs_weekends_std\n",
      "poly_3_picture_count_Documents\n",
      "poly_3_picture_count_Downloads\n",
      "poly_3_picture_count_Images\n",
      "poly_3_picture_count_Videos\n",
      "poly_3_video\n",
      "video\n",
      "video_log\n",
      "video_sqrt\n"
     ]
    }
   ],
   "source": [
    "Numeric_only_one_unique_value = numerical_summary[numerical_summary.Nunique == 1]\n",
    "if len(Numeric_only_one_unique_value):\n",
    "    df.drop(columns=Numeric_only_one_unique_value.index, inplace=True)\n",
    "    print(f\"There are {len(Numeric_only_one_unique_value)} variables That have only one unique value, so we drop those.\\n\\nNow the data have:\\n{df.shape[0]} rows\\n{df.shape[1]} columns\\n\\nThose columns names in order:\\n\")\n",
    "    for i in Numeric_only_one_unique_value.index.sort_values():\n",
    "        print(i)"
   ]
  },
  {
   "cell_type": "code",
   "execution_count": null,
   "metadata": {},
   "outputs": [],
   "source": []
  }
 ],
 "metadata": {
  "kernelspec": {
   "display_name": "Python 3",
   "language": "python",
   "name": "python3"
  },
  "language_info": {
   "codemirror_mode": {
    "name": "ipython",
    "version": 3
   },
   "file_extension": ".py",
   "mimetype": "text/x-python",
   "name": "python",
   "nbconvert_exporter": "python",
   "pygments_lexer": "ipython3",
   "version": "3.6.9"
  }
 },
 "nbformat": 4,
 "nbformat_minor": 4
}

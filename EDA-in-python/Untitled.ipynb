{
 "cells": [
  {
   "cell_type": "code",
   "execution_count": 113,
   "metadata": {},
   "outputs": [],
   "source": [
    "import pandas as pd\n",
    "import numpy as np\n",
    "import matplotlib.pyplot as plt\n",
    "def new_line():\n",
    "    print(\"-------------------------\")\n",
    "\n",
    "def plot_numerical_columns(col_name):\n",
    "    df[col_name].plot(figsize=(13,8));\n",
    "    plt.title(col_name, size=18);\n",
    "    plt.axhline(y=df[col_name].mean(), color='red');\n",
    "    plt.axhline(y=df[col_name].median(), color='green');\n",
    "    plt.legend(['Actual', 'Mean', 'Median']);\n",
    "    plt.show()\n",
    "    \n",
    "    df[col_name].sort_values().reset_index(drop=True).plot(figsize=(13,8));\n",
    "    plt.title(col_name+\" (SORTED)\", size=18);\n",
    "    plt.axhline(y=df[col_name].mean(), color='red');\n",
    "    plt.axhline(y=df[col_name].median(), color='green');\n",
    "    plt.legend(['Actual', 'Mean', 'Median']);\n",
    "    plt.show()\n",
    "\n",
    "    df[col_name].plot(kind=\"box\", figsize=(13,8))\n",
    "    plt.title(col_name, size=18);\n",
    "    plt.xlabel(\"\");\n",
    "    plt.show()\n",
    "    \n",
    "    \n",
    "def data_shape():\n",
    "    return f\"The Data have:\\n\\t{df.shape[0]} rows\\n\\t{df.shape[1]} columns\\n\""
   ]
  },
  {
   "cell_type": "code",
   "execution_count": 114,
   "metadata": {},
   "outputs": [
    {
     "name": "stdout",
     "output_type": "stream",
     "text": [
      "-------------------------\n",
      "The Data have:\n",
      "\t2803 rows\n",
      "\t1383 columns\n",
      "\n"
     ]
    }
   ],
   "source": [
    "df = pd.read_csv(\"data.csv\", date_parser=True)\n",
    "new_line()\n",
    "print(data_shape())"
   ]
  },
  {
   "cell_type": "code",
   "execution_count": 115,
   "metadata": {},
   "outputs": [
    {
     "name": "stdout",
     "output_type": "stream",
     "text": [
      "-------------------------\n",
      "Columns types distribution:\n",
      "\n",
      "float64    1378\n",
      "object        3\n",
      "int64         2\n",
      "dtype: int64\n"
     ]
    }
   ],
   "source": [
    "new_line()\n",
    "print(f\"Columns types distribution:\\n\\n{df.dtypes.value_counts()}\")"
   ]
  },
  {
   "cell_type": "code",
   "execution_count": 116,
   "metadata": {},
   "outputs": [
    {
     "name": "stdout",
     "output_type": "stream",
     "text": [
      "-------------------------\n",
      "There are 33 (out of 1383, [2%]) columns that contains 1 or more NA\n"
     ]
    }
   ],
   "source": [
    "new_line()\n",
    "a = df.isna().sum().where(lambda x:x>0).dropna()\n",
    "print(f\"There are {len(a)} (out of {df.shape[1]}, [{round(len(a)/df.shape[1]*100)}%]) columns that contains 1 or more NA\")"
   ]
  },
  {
   "cell_type": "code",
   "execution_count": 117,
   "metadata": {},
   "outputs": [
    {
     "name": "stdout",
     "output_type": "stream",
     "text": [
      "-------------------------\n",
      "There are 31 columns that are all Missing values, so we droped those.\n",
      "Now The Data have:\n",
      "\t2803 rows\n",
      "\t1352 columns\n",
      "\n",
      "\n",
      "Dropped columns names:\n"
     ]
    }
   ],
   "source": [
    "new_line()\n",
    "a = a.sort_values()/len(df)*100\n",
    "if (a == 100).sum():\n",
    "    df.drop(columns=a[a==100].index, inplace=True)\n",
    "    print(f\"There are {(a == 100).sum()} columns that are all Missing values, so we droped those.\\nNow {data_shape()}\\n\\nDropped columns names:\")\n",
    "#     for i in a[a==100].index:\n",
    "#         print(\"\\t\",i)\n",
    "    a = a[a != 100]"
   ]
  },
  {
   "cell_type": "code",
   "execution_count": 118,
   "metadata": {},
   "outputs": [
    {
     "name": "stdout",
     "output_type": "stream",
     "text": [
      "-------------------------\n",
      "NA columns data type Distribution:\n",
      "\n",
      "float64    2\n",
      "dtype: int64\n"
     ]
    }
   ],
   "source": [
    "new_line()\n",
    "print(f\"NA columns data type Distribution:\\n\\n{df[a.index].dtypes.value_counts()}\")"
   ]
  },
  {
   "cell_type": "code",
   "execution_count": 120,
   "metadata": {},
   "outputs": [
    {
     "name": "stdout",
     "output_type": "stream",
     "text": [
      "-------------------------\n",
      "NaN Ratio (0-100)\n",
      "\n",
      "min_call_Duration_sqrt    0.035676\n",
      "min_call_Duration_log     0.035676\n",
      "dtype: float64\n"
     ]
    }
   ],
   "source": [
    "new_line()\n",
    "if a.size:\n",
    "    print(f\"NaN Ratio (0-100)\\n\\n{a}\")\n",
    "else:\n",
    "    print(\"Now There is no NaN value in our Data\")"
   ]
  },
  {
   "cell_type": "code",
   "execution_count": 121,
   "metadata": {},
   "outputs": [
    {
     "name": "stdout",
     "output_type": "stream",
     "text": [
      "-------------------------\n"
     ]
    }
   ],
   "source": [
    "if a.size:\n",
    "    new_line()\n",
    "#     is ko uncomment karna h\n",
    "#     ans = input(\"Are you need to remove some columns?[y|n]\")\n",
    "    ans = \"n\" \n",
    "    if ans == \"y\":\n",
    "        to_remove = input(\"Please Enter columns names delimated by $\\neg:Columns_1$Columns_2\").split(\"$\")\n",
    "        df.drop(columns=to_remove, inplace=True)\n",
    "        print(f\"Now {data_shape()}\")"
   ]
  },
  {
   "cell_type": "code",
   "execution_count": 52,
   "metadata": {},
   "outputs": [],
   "source": [
    "# IMPUTING missing values??????????????"
   ]
  },
  {
   "cell_type": "code",
   "execution_count": 122,
   "metadata": {},
   "outputs": [
    {
     "name": "stdout",
     "output_type": "stream",
     "text": [
      "-------------------------\n",
      "There are 157 variables That have only one unique value, so we drop those.\n",
      "\n",
      "Now The Data have:\n",
      "\t2803 rows\n",
      "\t1195 columns\n",
      "\n",
      "\n",
      "Those columns names in order:\n",
      "\n"
     ]
    }
   ],
   "source": [
    "only_one_unique_value = df.nunique().where(lambda x:x == 1).dropna()\n",
    "if only_one_unique_value.size:\n",
    "    new_line()\n",
    "    df.drop(columns=only_one_unique_value.index, inplace=True)\n",
    "    print(f\"There are {only_one_unique_value.size} variables That have only one unique value, so we drop those.\\n\\nNow {data_shape()}\\n\\nThose columns names in order:\\n\")\n",
    "#     for i in only_one_unique_value.index.sort_values():\n",
    "#         print(i)\n",
    "del only_one_unique_value"
   ]
  },
  {
   "cell_type": "code",
   "execution_count": 123,
   "metadata": {},
   "outputs": [
    {
     "name": "stdout",
     "output_type": "stream",
     "text": [
      "-------------------------\n",
      "There are 1 column/s that have all unique values, so no value repeatation, we droped those columns.\n",
      "\n",
      "Now The Data have:\n",
      "\t2803 rows\n",
      "\t1194 columns\n",
      "\n",
      "Those column/s name/s are:\n",
      "\n"
     ]
    }
   ],
   "source": [
    "all_values_are_unique = df.apply(lambda x:x.is_unique).where(lambda x:x==True).dropna()\n",
    "if all_values_are_unique.size:\n",
    "    new_line()\n",
    "    df.drop(columns=all_values_are_unique.index, inplace=True)\n",
    "    print(f\"There are {all_values_are_unique.size} column/s that have all unique values, so no value repeatation, we droped those columns.\\n\\nNow {data_shape()}\\nThose column/s name/s are:\\n\")\n",
    "#     for i in f.index:\n",
    "#         print(\"\\t\", i)\n",
    "del all_values_are_unique"
   ]
  },
  {
   "cell_type": "code",
   "execution_count": 53,
   "metadata": {},
   "outputs": [],
   "source": [
    "# Numerical Data Validation"
   ]
  },
  {
   "cell_type": "code",
   "execution_count": 82,
   "metadata": {},
   "outputs": [],
   "source": [
    "numerical_cols = df.head().select_dtypes(\"number\").columns\n",
    "numerical_summary = df[numerical_cols].agg([min,max, np.mean, 'count', pd.Series.nunique]).T\n",
    "numerical_summary.columns = numerical_summary.columns.str.capitalize()\n",
    "del numerical_cols"
   ]
  },
  {
   "cell_type": "code",
   "execution_count": 83,
   "metadata": {},
   "outputs": [
    {
     "name": "stdout",
     "output_type": "stream",
     "text": [
      "There are 383 numeric columns that have minimum value is less than 0, is This ok?\n",
      "\n",
      "Those columns names (in order):\n",
      "\n",
      "\n"
     ]
    }
   ],
   "source": [
    "min_is_nagetive = numerical_summary.Min[numerical_summary.Min < 0]\n",
    "if min_is_nagetive.size:\n",
    "    new_line()\n",
    "    print(f\"There are {min_is_nagetive.size} numeric columns that have minimum value is less than 0, is This ok?\\n\\nThose columns names (in order):\\n\\n\")\n",
    "#     for i in min_is_nagetive.index.sort_values():\n",
    "#         print(i)\n",
    "del min_is_nagetive"
   ]
  },
  {
   "cell_type": "code",
   "execution_count": 103,
   "metadata": {},
   "outputs": [
    {
     "name": "stdout",
     "output_type": "stream",
     "text": [
      "There are 729 numeric columns that have minimum value is 0, is This ok?\n",
      "\n",
      "Those columns names (in order):\n",
      "\n",
      "\n"
     ]
    }
   ],
   "source": [
    "min_is_0 = numerical_summary.Min[numerical_summary.Min == 0]\n",
    "if min_is_0.size:\n",
    "    new_line()\n",
    "    print(f\"There are {min_is_0.size} numeric columns that have minimum value is 0, is This ok?\\n\\nThose columns names (in order):\\n\\n\")\n",
    "#     for i in min_is_0.index.sort_values():\n",
    "#         print(i)\n",
    "del min_is_0"
   ]
  },
  {
   "cell_type": "code",
   "execution_count": 124,
   "metadata": {},
   "outputs": [
    {
     "name": "stdout",
     "output_type": "stream",
     "text": [
      "-------------------------\n"
     ]
    }
   ],
   "source": [
    "new_line()    \n",
    "# for col_ in df.select_dtypes(\"number\").columns:\n",
    "#     plot_numerical_columns(col_)"
   ]
  },
  {
   "cell_type": "code",
   "execution_count": 131,
   "metadata": {},
   "outputs": [
    {
     "data": {
      "text/html": [
       "<div>\n",
       "<style scoped>\n",
       "    .dataframe tbody tr th:only-of-type {\n",
       "        vertical-align: middle;\n",
       "    }\n",
       "\n",
       "    .dataframe tbody tr th {\n",
       "        vertical-align: top;\n",
       "    }\n",
       "\n",
       "    .dataframe thead th {\n",
       "        text-align: right;\n",
       "    }\n",
       "</style>\n",
       "<table border=\"1\" class=\"dataframe\">\n",
       "  <thead>\n",
       "    <tr style=\"text-align: right;\">\n",
       "      <th></th>\n",
       "      <th>Min</th>\n",
       "      <th>Max</th>\n",
       "      <th>Mean</th>\n",
       "      <th>Count</th>\n",
       "      <th>Nunique</th>\n",
       "    </tr>\n",
       "  </thead>\n",
       "  <tbody>\n",
       "    <tr>\n",
       "      <th>displyname_nunique</th>\n",
       "      <td>12.000000</td>\n",
       "      <td>7.230000e+03</td>\n",
       "      <td>4.782790e+02</td>\n",
       "      <td>2803.0</td>\n",
       "      <td>1051.0</td>\n",
       "    </tr>\n",
       "    <tr>\n",
       "      <th>contacts_qty</th>\n",
       "      <td>12.000000</td>\n",
       "      <td>1.441100e+04</td>\n",
       "      <td>5.605844e+02</td>\n",
       "      <td>2803.0</td>\n",
       "      <td>1151.0</td>\n",
       "    </tr>\n",
       "    <tr>\n",
       "      <th>number_as_name_qty</th>\n",
       "      <td>0.000000</td>\n",
       "      <td>2.426000e+03</td>\n",
       "      <td>3.782019e+00</td>\n",
       "      <td>2803.0</td>\n",
       "      <td>57.0</td>\n",
       "    </tr>\n",
       "    <tr>\n",
       "      <th>number_as_name_ratio</th>\n",
       "      <td>0.000000</td>\n",
       "      <td>7.785623e-01</td>\n",
       "      <td>5.960546e-03</td>\n",
       "      <td>2803.0</td>\n",
       "      <td>1119.0</td>\n",
       "    </tr>\n",
       "    <tr>\n",
       "      <th>engslish_contacts_qty</th>\n",
       "      <td>0.000000</td>\n",
       "      <td>1.440600e+04</td>\n",
       "      <td>2.322440e+02</td>\n",
       "      <td>2803.0</td>\n",
       "      <td>705.0</td>\n",
       "    </tr>\n",
       "    <tr>\n",
       "      <th>...</th>\n",
       "      <td>...</td>\n",
       "      <td>...</td>\n",
       "      <td>...</td>\n",
       "      <td>...</td>\n",
       "      <td>...</td>\n",
       "    </tr>\n",
       "    <tr>\n",
       "      <th>max_timestamp_day_sqrt</th>\n",
       "      <td>1.825742</td>\n",
       "      <td>1.016530e+01</td>\n",
       "      <td>2.771474e+00</td>\n",
       "      <td>2803.0</td>\n",
       "      <td>22.0</td>\n",
       "    </tr>\n",
       "    <tr>\n",
       "      <th>max_timestamp_day_standriezed</th>\n",
       "      <td>-0.428005</td>\n",
       "      <td>6.608342e+00</td>\n",
       "      <td>7.097823e-17</td>\n",
       "      <td>2803.0</td>\n",
       "      <td>22.0</td>\n",
       "    </tr>\n",
       "    <tr>\n",
       "      <th>max_timestamp_day_log</th>\n",
       "      <td>0.522892</td>\n",
       "      <td>2.014241e+00</td>\n",
       "      <td>8.274173e-01</td>\n",
       "      <td>2803.0</td>\n",
       "      <td>22.0</td>\n",
       "    </tr>\n",
       "    <tr>\n",
       "      <th>poly_2_max_timestamp_day</th>\n",
       "      <td>11.111111</td>\n",
       "      <td>1.067778e+04</td>\n",
       "      <td>2.905696e+02</td>\n",
       "      <td>2803.0</td>\n",
       "      <td>22.0</td>\n",
       "    </tr>\n",
       "    <tr>\n",
       "      <th>poly_3_max_timestamp_day</th>\n",
       "      <td>37.037037</td>\n",
       "      <td>1.103370e+06</td>\n",
       "      <td>2.121613e+04</td>\n",
       "      <td>2803.0</td>\n",
       "      <td>22.0</td>\n",
       "    </tr>\n",
       "  </tbody>\n",
       "</table>\n",
       "<p>1192 rows × 5 columns</p>\n",
       "</div>"
      ],
      "text/plain": [
       "                                     Min           Max          Mean   Count  \\\n",
       "displyname_nunique             12.000000  7.230000e+03  4.782790e+02  2803.0   \n",
       "contacts_qty                   12.000000  1.441100e+04  5.605844e+02  2803.0   \n",
       "number_as_name_qty              0.000000  2.426000e+03  3.782019e+00  2803.0   \n",
       "number_as_name_ratio            0.000000  7.785623e-01  5.960546e-03  2803.0   \n",
       "engslish_contacts_qty           0.000000  1.440600e+04  2.322440e+02  2803.0   \n",
       "...                                  ...           ...           ...     ...   \n",
       "max_timestamp_day_sqrt          1.825742  1.016530e+01  2.771474e+00  2803.0   \n",
       "max_timestamp_day_standriezed  -0.428005  6.608342e+00  7.097823e-17  2803.0   \n",
       "max_timestamp_day_log           0.522892  2.014241e+00  8.274173e-01  2803.0   \n",
       "poly_2_max_timestamp_day       11.111111  1.067778e+04  2.905696e+02  2803.0   \n",
       "poly_3_max_timestamp_day       37.037037  1.103370e+06  2.121613e+04  2803.0   \n",
       "\n",
       "                               Nunique  \n",
       "displyname_nunique              1051.0  \n",
       "contacts_qty                    1151.0  \n",
       "number_as_name_qty                57.0  \n",
       "number_as_name_ratio            1119.0  \n",
       "engslish_contacts_qty            705.0  \n",
       "...                                ...  \n",
       "max_timestamp_day_sqrt            22.0  \n",
       "max_timestamp_day_standriezed     22.0  \n",
       "max_timestamp_day_log             22.0  \n",
       "poly_2_max_timestamp_day          22.0  \n",
       "poly_3_max_timestamp_day          22.0  \n",
       "\n",
       "[1192 rows x 5 columns]"
      ]
     },
     "execution_count": 131,
     "metadata": {},
     "output_type": "execute_result"
    }
   ],
   "source": [
    "numerical_summary[~numerical_summary.Nunique.isin([1, len(df)])]"
   ]
  },
  {
   "cell_type": "code",
   "execution_count": null,
   "metadata": {},
   "outputs": [],
   "source": []
  }
 ],
 "metadata": {
  "kernelspec": {
   "display_name": "Python 3",
   "language": "python",
   "name": "python3"
  },
  "language_info": {
   "codemirror_mode": {
    "name": "ipython",
    "version": 3
   },
   "file_extension": ".py",
   "mimetype": "text/x-python",
   "name": "python",
   "nbconvert_exporter": "python",
   "pygments_lexer": "ipython3",
   "version": "3.6.9"
  }
 },
 "nbformat": 4,
 "nbformat_minor": 4
}

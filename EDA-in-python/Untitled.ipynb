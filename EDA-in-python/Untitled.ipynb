{
 "cells": [
  {
   "cell_type": "code",
   "execution_count": 14,
   "metadata": {},
   "outputs": [],
   "source": [
    "import pandas as pd\n",
    "import numpy as np\n",
    "import matplotlib.pyplot as plt\n",
    "def f():\n",
    "    print(\"-------------------------\")"
   ]
  },
  {
   "cell_type": "code",
   "execution_count": 82,
   "metadata": {},
   "outputs": [
    {
     "name": "stdout",
     "output_type": "stream",
     "text": [
      "-------------------------\n",
      "2803 rows\n",
      "1383 columns\n"
     ]
    }
   ],
   "source": [
    "df = pd.read_csv(\"data.csv\")\n",
    "f()\n",
    "print(f\"{df.shape[0]} rows\\n{df.shape[1]} columns\")"
   ]
  },
  {
   "cell_type": "code",
   "execution_count": 83,
   "metadata": {},
   "outputs": [
    {
     "name": "stdout",
     "output_type": "stream",
     "text": [
      "-------------------------\n",
      "Columns types distribution:\n",
      "\n",
      "float64    1378\n",
      "object        3\n",
      "int64         2\n",
      "dtype: int64\n"
     ]
    }
   ],
   "source": [
    "f()\n",
    "print(f\"Columns types distribution:\\n\\n{df.dtypes.value_counts()}\")"
   ]
  },
  {
   "cell_type": "code",
   "execution_count": 84,
   "metadata": {},
   "outputs": [
    {
     "name": "stdout",
     "output_type": "stream",
     "text": [
      "-------------------------\n",
      "There are 33 (out of 1383, [2%]) columns that contains 1 or more NA\n"
     ]
    }
   ],
   "source": [
    "f()\n",
    "a = df.isna().sum().where(lambda x:x>0).dropna()\n",
    "print(f\"There are {len(a)} (out of {df.shape[1]}, [{round(len(a)/df.shape[1]*100)}%]) columns that contains 1 or more NA\")"
   ]
  },
  {
   "cell_type": "code",
   "execution_count": 85,
   "metadata": {},
   "outputs": [
    {
     "name": "stdout",
     "output_type": "stream",
     "text": [
      "-------------------------\n",
      "NA columns data type Distribution:\n",
      "\n",
      "float64    33\n",
      "dtype: int64\n"
     ]
    }
   ],
   "source": [
    "f()\n",
    "print(f\"NA columns data type Distribution:\\n\\n{df[a.index].dtypes.value_counts()}\")"
   ]
  },
  {
   "cell_type": "code",
   "execution_count": 81,
   "metadata": {},
   "outputs": [
    {
     "name": "stdout",
     "output_type": "stream",
     "text": [
      "-------------------------\n",
      "There are 31 columns that are all Missing values, so we droped those\n",
      "\n",
      "Dropped columns names:\n",
      "outgoing_call_logs_weekdays_max_standriezed\n",
      "outgoind_call_log_COUNT_mean_standriezed\n",
      "outgoind_call_log_COUNT_median_standriezed\n",
      "outgoing_call_logs_weekends_mean_standriezed\n",
      "count_of_days_no_outgoing_call_standriezed\n",
      "outgoind_call_log_COUNT_min_standriezed\n",
      "picture_count_Downloads_standriezed\n",
      "outgoind_call_log_COUNT_max_standriezed\n",
      "outgoing_call_logs_weekends_max_standriezed\n",
      "outgoing_call_logs_weekends_std_standriezed\n",
      "outgoing_call_logs_weekends_min_standriezed\n",
      "outgoind_call_log_COUNT_std_standriezed\n",
      "outgoing_call_logs_weekdays_mean_standriezed\n",
      "days_since_last_outgoing_call_standriezed\n",
      "calendar_events_count_standriezed\n",
      "outgoing_call_logs_weekdays_std_standriezed\n",
      "video_standriezed\n",
      "audio_standriezed\n",
      "darkweb_count_ratio_standriezed\n",
      "dangerous_count_ratio_standriezed\n",
      "darkweb_count_standriezed\n",
      "dangerous_count_standriezed\n",
      "null_weekday_min_standriezed\n",
      "null_weekend_min_standriezed\n",
      "SENT_weekend_min_standriezed\n",
      "INBOX_weekend_min_standriezed\n",
      "picture_count_Videos_standriezed\n",
      "picture_count_Images_standriezed\n",
      "picture_count_Documents_standriezed\n",
      "outgoing_call_logs_weekdays_min_standriezed\n",
      "days_between_first_and_last_day_outgoing_call_standriezed\n"
     ]
    }
   ],
   "source": [
    "f()\n",
    "a = a.sort_values()/len(df)*100\n",
    "if (a == 100).sum():\n",
    "    print(f\"There are {(a == 100).sum()} columns that are all Missing values, so we droped those.\\nNow The data have:\\n{df.shape[0]} rows\\n{df.shape[1]}columns\\n\\nDropped columns names:\")\n",
    "    for i in a[a==100].index:\n",
    "        print(i)"
   ]
  },
  {
   "cell_type": "code",
   "execution_count": 63,
   "metadata": {},
   "outputs": [
    {
     "name": "stdout",
     "output_type": "stream",
     "text": [
      "-------------------------\n"
     ]
    },
    {
     "name": "stdin",
     "output_type": "stream",
     "text": [
      "Are you need to remove Columns That are all missing?[y|n] an\n"
     ]
    }
   ],
   "source": [
    "f()\n",
    "ans = input(\"Are you need to remove Columns That are all missing?[y|n]\")\n",
    "if ans == \"y\":\n",
    "    print(f\"data columns BEFORE deleting all NaNs columns: {df.shape[1]}\")\n",
    "    df.drop(columns=a[a==100].index, inplace=True)\n",
    "    print(f\"data columns AFTER deleting all NaNs columns: {df.shape[1]}\")"
   ]
  },
  {
   "cell_type": "code",
   "execution_count": 67,
   "metadata": {},
   "outputs": [
    {
     "data": {
      "text/plain": [
       "Index(['outgoing_call_logs_weekdays_max_standriezed',\n",
       "       'outgoind_call_log_COUNT_mean_standriezed',\n",
       "       'outgoind_call_log_COUNT_median_standriezed',\n",
       "       'outgoing_call_logs_weekends_mean_standriezed',\n",
       "       'count_of_days_no_outgoing_call_standriezed',\n",
       "       'outgoind_call_log_COUNT_min_standriezed',\n",
       "       'picture_count_Downloads_standriezed',\n",
       "       'outgoind_call_log_COUNT_max_standriezed',\n",
       "       'outgoing_call_logs_weekends_max_standriezed',\n",
       "       'outgoing_call_logs_weekends_std_standriezed',\n",
       "       'outgoing_call_logs_weekends_min_standriezed',\n",
       "       'outgoind_call_log_COUNT_std_standriezed',\n",
       "       'outgoing_call_logs_weekdays_mean_standriezed',\n",
       "       'days_since_last_outgoing_call_standriezed',\n",
       "       'calendar_events_count_standriezed',\n",
       "       'outgoing_call_logs_weekdays_std_standriezed', 'video_standriezed',\n",
       "       'audio_standriezed', 'darkweb_count_ratio_standriezed',\n",
       "       'dangerous_count_ratio_standriezed', 'darkweb_count_standriezed',\n",
       "       'dangerous_count_standriezed', 'null_weekday_min_standriezed',\n",
       "       'null_weekend_min_standriezed', 'SENT_weekend_min_standriezed',\n",
       "       'INBOX_weekend_min_standriezed', 'picture_count_Videos_standriezed',\n",
       "       'picture_count_Images_standriezed',\n",
       "       'picture_count_Documents_standriezed',\n",
       "       'outgoing_call_logs_weekdays_min_standriezed',\n",
       "       'days_between_first_and_last_day_outgoing_call_standriezed'],\n",
       "      dtype='object')"
      ]
     },
     "execution_count": 67,
     "metadata": {},
     "output_type": "execute_result"
    }
   ],
   "source": []
  },
  {
   "cell_type": "code",
   "execution_count": null,
   "metadata": {},
   "outputs": [],
   "source": []
  }
 ],
 "metadata": {
  "kernelspec": {
   "display_name": "Python 3",
   "language": "python",
   "name": "python3"
  },
  "language_info": {
   "codemirror_mode": {
    "name": "ipython",
    "version": 3
   },
   "file_extension": ".py",
   "mimetype": "text/x-python",
   "name": "python",
   "nbconvert_exporter": "python",
   "pygments_lexer": "ipython3",
   "version": "3.6.9"
  }
 },
 "nbformat": 4,
 "nbformat_minor": 4
}
